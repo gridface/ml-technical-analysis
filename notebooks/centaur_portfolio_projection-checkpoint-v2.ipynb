{
 "cells": [
  {
   "cell_type": "markdown",
   "metadata": {
    "colab_type": "text",
    "id": "view-in-github"
   },
   "source": [
    "<a href=\"https://colab.research.google.com/github/gridface/ml-technical-analysis/blob/main/centaur_portfolio_projection.ipynb\" target=\"_parent\"><img src=\"https://colab.research.google.com/assets/colab-badge.svg\" alt=\"Open In Colab\"/></a>"
   ]
  },
  {
   "cell_type": "markdown",
   "metadata": {
    "id": "8qrNBy0DbDRc"
   },
   "source": [
    "# Portfolio Analysis with Pandas"
   ]
  },
  {
   "cell_type": "markdown",
   "metadata": {
    "id": "PBjDzswvbWJS"
   },
   "source": [
    "## Define Your Variables"
   ]
  },
  {
   "cell_type": "code",
   "execution_count": 130,
   "metadata": {
    "id": "G7xH40avbpx6"
   },
   "outputs": [],
   "source": [
    "import pandas as pd, yfinance as yf, matplotlib.pyplot as plt\n",
    "\n",
    "\n",
    "#here we define an array of stock tickers that will be fed into our program.\n",
    "#change these tickers as desired\n",
    "portfolio = [\"ZIM\", \"T\", \"MOS\", \"VALE\", \"ENB\", \"ADM\" ]\n",
    "\n",
    "#what period do you want to evaluate?\n",
    "# use \"period\" instead of start/end\n",
    "# valid periods: 1d,5d,1mo,3mo,6mo,1y,2y,5y,10y,ytd,max\n",
    "# (optional, default is '1mo')\n",
    "per = \"2y\""
   ]
  },
  {
   "cell_type": "code",
   "execution_count": 133,
   "metadata": {},
   "outputs": [
    {
     "name": "stdout",
     "output_type": "stream",
     "text": [
      "[*********************100%***********************]  503 of 503 completed\n",
      "\n",
      "2 Failed downloads:\n",
      "- BF.B: No data found for this date range, symbol may be delisted\n",
      "- BRK.B: No data found, symbol may be delisted\n"
     ]
    }
   ],
   "source": [
    "stocks = yf.download(sp500,period=per)[['Adj Close','Volume']]"
   ]
  },
  {
   "cell_type": "code",
   "execution_count": 136,
   "metadata": {},
   "outputs": [
    {
     "ename": "AttributeError",
     "evalue": "'DataFrame' object has no attribute 'to_datetime'",
     "output_type": "error",
     "traceback": [
      "\u001b[0;31m---------------------------------------------------------------------------\u001b[0m",
      "\u001b[0;31mAttributeError\u001b[0m                            Traceback (most recent call last)",
      "\u001b[0;32m<ipython-input-136-e744fb3300ba>\u001b[0m in \u001b[0;36m<module>\u001b[0;34m\u001b[0m\n\u001b[1;32m      2\u001b[0m \u001b[0msp500\u001b[0m \u001b[0;34m=\u001b[0m \u001b[0mstocks\u001b[0m\u001b[0;34m\u001b[0m\u001b[0;34m\u001b[0m\u001b[0m\n\u001b[1;32m      3\u001b[0m \u001b[0;31m#convert the time index to datetime type. this lets us do special date functions\u001b[0m\u001b[0;34m\u001b[0m\u001b[0;34m\u001b[0m\u001b[0;34m\u001b[0m\u001b[0m\n\u001b[0;32m----> 4\u001b[0;31m \u001b[0msp500\u001b[0m\u001b[0;34m.\u001b[0m\u001b[0mto_datetime\u001b[0m\u001b[0;34m(\u001b[0m\u001b[0mstocks\u001b[0m\u001b[0;34m.\u001b[0m\u001b[0miloc\u001b[0m\u001b[0;34m[\u001b[0m\u001b[0;36m0\u001b[0m\u001b[0;34m]\u001b[0m\u001b[0;34m)\u001b[0m\u001b[0;34m\u001b[0m\u001b[0;34m\u001b[0m\u001b[0m\n\u001b[0m\u001b[1;32m      5\u001b[0m \u001b[0;31m# #this step flattens out the index\u001b[0m\u001b[0;34m\u001b[0m\u001b[0;34m\u001b[0m\u001b[0;34m\u001b[0m\u001b[0m\n\u001b[1;32m      6\u001b[0m \u001b[0;31m# sp500.columns = stocks.columns.to_flat_index()\u001b[0m\u001b[0;34m\u001b[0m\u001b[0;34m\u001b[0m\u001b[0;34m\u001b[0m\u001b[0m\n",
      "\u001b[0;32m/opt/anaconda3/lib/python3.8/site-packages/pandas/core/generic.py\u001b[0m in \u001b[0;36m__getattr__\u001b[0;34m(self, name)\u001b[0m\n\u001b[1;32m   5900\u001b[0m         ):\n\u001b[1;32m   5901\u001b[0m             \u001b[0;32mreturn\u001b[0m \u001b[0mself\u001b[0m\u001b[0;34m[\u001b[0m\u001b[0mname\u001b[0m\u001b[0;34m]\u001b[0m\u001b[0;34m\u001b[0m\u001b[0;34m\u001b[0m\u001b[0m\n\u001b[0;32m-> 5902\u001b[0;31m         \u001b[0;32mreturn\u001b[0m \u001b[0mobject\u001b[0m\u001b[0;34m.\u001b[0m\u001b[0m__getattribute__\u001b[0m\u001b[0;34m(\u001b[0m\u001b[0mself\u001b[0m\u001b[0;34m,\u001b[0m \u001b[0mname\u001b[0m\u001b[0;34m)\u001b[0m\u001b[0;34m\u001b[0m\u001b[0;34m\u001b[0m\u001b[0m\n\u001b[0m\u001b[1;32m   5903\u001b[0m \u001b[0;34m\u001b[0m\u001b[0m\n\u001b[1;32m   5904\u001b[0m     \u001b[0;32mdef\u001b[0m \u001b[0m__setattr__\u001b[0m\u001b[0;34m(\u001b[0m\u001b[0mself\u001b[0m\u001b[0;34m,\u001b[0m \u001b[0mname\u001b[0m\u001b[0;34m:\u001b[0m \u001b[0mstr\u001b[0m\u001b[0;34m,\u001b[0m \u001b[0mvalue\u001b[0m\u001b[0;34m)\u001b[0m \u001b[0;34m->\u001b[0m \u001b[0;32mNone\u001b[0m\u001b[0;34m:\u001b[0m\u001b[0;34m\u001b[0m\u001b[0;34m\u001b[0m\u001b[0m\n",
      "\u001b[0;31mAttributeError\u001b[0m: 'DataFrame' object has no attribute 'to_datetime'"
     ]
    }
   ],
   "source": [
    "#Use this for jupyter standalone\n",
    "sp500 = stocks\n",
    "#convert the time index to datetime type. this lets us do special date functions\n",
    "sp500.to_datetime(stocks.iloc[0])\n",
    "# #this step flattens out the index \n",
    "# sp500.columns = stocks.columns.to_flat_index()\n",
    "sp500\n",
    "# # #creates a multiindex for better sorting and grouping of data\n",
    "# # # check this link for more info https://pandas.pydata.org/docs/user_guide/advanced.html\n",
    "# sp500.columns = pd.MultiIndex.from_tuples(stocks.columns)\n",
    "\n",
    "# # #lets switch levels now so we can group on individual stocks at the top level\n",
    "# sp500.swaplevel(axis = 1).sort_index(axis=1)\n",
    "\n"
   ]
  },
  {
   "cell_type": "markdown",
   "metadata": {
    "id": "Se9nb1r_b9sa"
   },
   "source": [
    "## Notebook Setup"
   ]
  },
  {
   "cell_type": "code",
   "execution_count": 107,
   "metadata": {},
   "outputs": [
    {
     "name": "stdout",
     "output_type": "stream",
     "text": [
      "<class 'pandas.core.frame.DataFrame'>\n",
      "Index: 504 entries, 2021-02-22 00:00:00 to 2023-02-21 00:00:00\n",
      "Columns: 1006 entries, ('Adj Close', 'A') to ('Volume', 'ZTS')\n",
      "dtypes: float64(508), int64(498)\n",
      "memory usage: 3.9+ MB\n"
     ]
    }
   ],
   "source": [
    "stocks.info()"
   ]
  },
  {
   "cell_type": "code",
   "execution_count": 108,
   "metadata": {
    "colab": {
     "base_uri": "https://localhost:8080/"
    },
    "id": "kNl4kLFDk6Gv",
    "outputId": "6d657e38-89d9-48b1-a5be-661315ebb109"
   },
   "outputs": [
    {
     "name": "stdout",
     "output_type": "stream",
     "text": [
      "The autoreload extension is already loaded. To reload it, use:\n",
      "  %reload_ext autoreload\n"
     ]
    }
   ],
   "source": [
    "#this block is to point jupyter to our custom libraries\n",
    "%load_ext autoreload\n",
    "%autoreload 2\n",
    "import os\n",
    "import sys\n",
    "module_path = os.path.abspath(os.path.join('../../libs'))\n",
    "sys.path.insert(0, module_path)\n",
    "\n",
    "#****************\n",
    "# uncomment this block to install the yahoo finance api library for standalone and hosted jupyter notebooks. \n",
    "# !pip install yfinance\n",
    "# import yfinance as yf\n",
    "#****************\n",
    "\n",
    "# once it is installed, we can import it like any other installed library\n",
    "#pandas and matplotlib libraries are already part of colab, so we just import them\n",
    "\n",
    "\n",
    "#to run the full app, pull in our custom libraries\n",
    "# import libs.collector as collector\n",
    "# import libs.indicators as indicators\n",
    "#import libs.dbloader as dbloader\n",
    "\n",
    "#general note on running notebooks: if you get an \"undefined\" type error, remember that you have to \n",
    "#run each of the cells in order sequentially first in order to \"define\" the variables\n",
    "#and execute the commands. so if you get the \"undefined\" error, go back up and make sure you \n",
    "#have run all the lines that came before your troublesome line of code\n"
   ]
  },
  {
   "cell_type": "markdown",
   "metadata": {
    "id": "9f2_--VuatUG"
   },
   "source": [
    "## Get Your Portfolio Data"
   ]
  },
  {
   "cell_type": "code",
   "execution_count": 101,
   "metadata": {
    "colab": {
     "base_uri": "https://localhost:8080/"
    },
    "id": "x9Gwdl-rTWWd",
    "outputId": "03ae3622-ea61-41ad-e49e-e4d3fe590945"
   },
   "outputs": [],
   "source": [
    "#notice the format of this data - it has a two-tiered header - [measurement]/[ticker]\n",
    "# we will be changing this around below to make it easier to work with\n",
    "\n",
    "#****************\n",
    "#run this codeblock if you are running jupyter notebook as a standalone\n",
    "# stocks = yf.download(portfolio,period=per)\n",
    "#convert the time index to datetime type. this lets us do special date functions\n",
    "# pd.to_datetime(stocks.iloc[0])\n",
    "#****************\n",
    "\n",
    "# stocks = collector.get_yfinance_stocks(portfolio,per)\n",
    "# stocks = collector.flatten(stocks)\n",
    "# stocks"
   ]
  },
  {
   "cell_type": "markdown",
   "metadata": {
    "id": "LYO6FQeCfrP7"
   },
   "source": [
    "## Create Analytical Fields"
   ]
  },
  {
   "cell_type": "code",
   "execution_count": 109,
   "metadata": {
    "id": "eETZCpeRXv01"
   },
   "outputs": [
    {
     "data": {
      "text/html": [
       "<div>\n",
       "<style scoped>\n",
       "    .dataframe tbody tr th:only-of-type {\n",
       "        vertical-align: middle;\n",
       "    }\n",
       "\n",
       "    .dataframe tbody tr th {\n",
       "        vertical-align: top;\n",
       "    }\n",
       "\n",
       "    .dataframe thead th {\n",
       "        text-align: right;\n",
       "    }\n",
       "</style>\n",
       "<table border=\"1\" class=\"dataframe\">\n",
       "  <thead>\n",
       "    <tr style=\"text-align: right;\">\n",
       "      <th></th>\n",
       "      <th>A</th>\n",
       "      <th>AAL</th>\n",
       "      <th>AAP</th>\n",
       "      <th>AAPL</th>\n",
       "      <th>ABBV</th>\n",
       "      <th>ABC</th>\n",
       "      <th>ABT</th>\n",
       "      <th>ACGL</th>\n",
       "      <th>ACN</th>\n",
       "      <th>ADBE</th>\n",
       "      <th>...</th>\n",
       "      <th>WYNN</th>\n",
       "      <th>XEL</th>\n",
       "      <th>XOM</th>\n",
       "      <th>XRAY</th>\n",
       "      <th>XYL</th>\n",
       "      <th>YUM</th>\n",
       "      <th>ZBH</th>\n",
       "      <th>ZBRA</th>\n",
       "      <th>ZION</th>\n",
       "      <th>ZTS</th>\n",
       "    </tr>\n",
       "    <tr>\n",
       "      <th>Date</th>\n",
       "      <th></th>\n",
       "      <th></th>\n",
       "      <th></th>\n",
       "      <th></th>\n",
       "      <th></th>\n",
       "      <th></th>\n",
       "      <th></th>\n",
       "      <th></th>\n",
       "      <th></th>\n",
       "      <th></th>\n",
       "      <th></th>\n",
       "      <th></th>\n",
       "      <th></th>\n",
       "      <th></th>\n",
       "      <th></th>\n",
       "      <th></th>\n",
       "      <th></th>\n",
       "      <th></th>\n",
       "      <th></th>\n",
       "      <th></th>\n",
       "      <th></th>\n",
       "    </tr>\n",
       "  </thead>\n",
       "  <tbody>\n",
       "    <tr>\n",
       "      <th>2021-02-22</th>\n",
       "      <td>122.032654</td>\n",
       "      <td>20.440001</td>\n",
       "      <td>159.379578</td>\n",
       "      <td>124.501358</td>\n",
       "      <td>98.542206</td>\n",
       "      <td>103.336601</td>\n",
       "      <td>120.744865</td>\n",
       "      <td>35.160000</td>\n",
       "      <td>246.021835</td>\n",
       "      <td>467.329987</td>\n",
       "      <td>...</td>\n",
       "      <td>126.750000</td>\n",
       "      <td>57.183510</td>\n",
       "      <td>49.656055</td>\n",
       "      <td>51.815701</td>\n",
       "      <td>97.550209</td>\n",
       "      <td>101.816757</td>\n",
       "      <td>153.387390</td>\n",
       "      <td>488.309998</td>\n",
       "      <td>50.579266</td>\n",
       "      <td>157.996033</td>\n",
       "    </tr>\n",
       "    <tr>\n",
       "      <th>2021-02-23</th>\n",
       "      <td>120.965485</td>\n",
       "      <td>20.660000</td>\n",
       "      <td>157.944519</td>\n",
       "      <td>124.363014</td>\n",
       "      <td>97.815056</td>\n",
       "      <td>103.677422</td>\n",
       "      <td>119.020638</td>\n",
       "      <td>35.150002</td>\n",
       "      <td>249.488739</td>\n",
       "      <td>467.799988</td>\n",
       "      <td>...</td>\n",
       "      <td>136.479996</td>\n",
       "      <td>58.602924</td>\n",
       "      <td>50.341915</td>\n",
       "      <td>52.226791</td>\n",
       "      <td>96.932426</td>\n",
       "      <td>101.467690</td>\n",
       "      <td>154.851059</td>\n",
       "      <td>498.019989</td>\n",
       "      <td>51.347050</td>\n",
       "      <td>157.364685</td>\n",
       "    </tr>\n",
       "    <tr>\n",
       "      <th>2021-02-24</th>\n",
       "      <td>123.534584</td>\n",
       "      <td>21.820000</td>\n",
       "      <td>157.906494</td>\n",
       "      <td>123.859085</td>\n",
       "      <td>100.042526</td>\n",
       "      <td>102.440727</td>\n",
       "      <td>120.577362</td>\n",
       "      <td>35.570000</td>\n",
       "      <td>252.488174</td>\n",
       "      <td>476.619995</td>\n",
       "      <td>...</td>\n",
       "      <td>134.210007</td>\n",
       "      <td>56.975327</td>\n",
       "      <td>51.850800</td>\n",
       "      <td>52.853191</td>\n",
       "      <td>99.128967</td>\n",
       "      <td>101.496773</td>\n",
       "      <td>156.592133</td>\n",
       "      <td>512.690002</td>\n",
       "      <td>53.821037</td>\n",
       "      <td>156.901031</td>\n",
       "    </tr>\n",
       "    <tr>\n",
       "      <th>2021-02-25</th>\n",
       "      <td>120.649277</td>\n",
       "      <td>20.860001</td>\n",
       "      <td>152.698380</td>\n",
       "      <td>119.550949</td>\n",
       "      <td>98.790726</td>\n",
       "      <td>100.152367</td>\n",
       "      <td>119.789154</td>\n",
       "      <td>35.490002</td>\n",
       "      <td>247.141769</td>\n",
       "      <td>459.160004</td>\n",
       "      <td>...</td>\n",
       "      <td>128.660004</td>\n",
       "      <td>56.625202</td>\n",
       "      <td>50.991192</td>\n",
       "      <td>51.316536</td>\n",
       "      <td>98.060112</td>\n",
       "      <td>101.516174</td>\n",
       "      <td>157.367004</td>\n",
       "      <td>497.619995</td>\n",
       "      <td>51.726208</td>\n",
       "      <td>154.365738</td>\n",
       "    </tr>\n",
       "    <tr>\n",
       "      <th>2021-02-26</th>\n",
       "      <td>120.619629</td>\n",
       "      <td>20.940001</td>\n",
       "      <td>152.394257</td>\n",
       "      <td>119.817726</td>\n",
       "      <td>99.168106</td>\n",
       "      <td>98.565109</td>\n",
       "      <td>118.015663</td>\n",
       "      <td>35.820000</td>\n",
       "      <td>244.337082</td>\n",
       "      <td>459.670013</td>\n",
       "      <td>...</td>\n",
       "      <td>131.729996</td>\n",
       "      <td>55.442360</td>\n",
       "      <td>49.720074</td>\n",
       "      <td>51.942940</td>\n",
       "      <td>97.628647</td>\n",
       "      <td>100.381760</td>\n",
       "      <td>155.989426</td>\n",
       "      <td>499.429993</td>\n",
       "      <td>50.399162</td>\n",
       "      <td>153.142487</td>\n",
       "    </tr>\n",
       "    <tr>\n",
       "      <th>...</th>\n",
       "      <td>...</td>\n",
       "      <td>...</td>\n",
       "      <td>...</td>\n",
       "      <td>...</td>\n",
       "      <td>...</td>\n",
       "      <td>...</td>\n",
       "      <td>...</td>\n",
       "      <td>...</td>\n",
       "      <td>...</td>\n",
       "      <td>...</td>\n",
       "      <td>...</td>\n",
       "      <td>...</td>\n",
       "      <td>...</td>\n",
       "      <td>...</td>\n",
       "      <td>...</td>\n",
       "      <td>...</td>\n",
       "      <td>...</td>\n",
       "      <td>...</td>\n",
       "      <td>...</td>\n",
       "      <td>...</td>\n",
       "      <td>...</td>\n",
       "    </tr>\n",
       "    <tr>\n",
       "      <th>2023-02-14</th>\n",
       "      <td>153.039993</td>\n",
       "      <td>16.790001</td>\n",
       "      <td>150.759995</td>\n",
       "      <td>153.199997</td>\n",
       "      <td>152.589996</td>\n",
       "      <td>157.360001</td>\n",
       "      <td>107.260002</td>\n",
       "      <td>66.279999</td>\n",
       "      <td>284.769989</td>\n",
       "      <td>377.899994</td>\n",
       "      <td>...</td>\n",
       "      <td>109.080002</td>\n",
       "      <td>67.980003</td>\n",
       "      <td>116.419998</td>\n",
       "      <td>36.990002</td>\n",
       "      <td>107.339996</td>\n",
       "      <td>130.830002</td>\n",
       "      <td>126.709999</td>\n",
       "      <td>318.760010</td>\n",
       "      <td>52.320000</td>\n",
       "      <td>171.899994</td>\n",
       "    </tr>\n",
       "    <tr>\n",
       "      <th>2023-02-15</th>\n",
       "      <td>151.750000</td>\n",
       "      <td>16.799999</td>\n",
       "      <td>151.289993</td>\n",
       "      <td>155.330002</td>\n",
       "      <td>151.059998</td>\n",
       "      <td>158.809998</td>\n",
       "      <td>107.279999</td>\n",
       "      <td>67.980003</td>\n",
       "      <td>287.649994</td>\n",
       "      <td>375.940002</td>\n",
       "      <td>...</td>\n",
       "      <td>108.459999</td>\n",
       "      <td>67.900002</td>\n",
       "      <td>116.070000</td>\n",
       "      <td>36.590000</td>\n",
       "      <td>107.879997</td>\n",
       "      <td>131.669998</td>\n",
       "      <td>126.510002</td>\n",
       "      <td>327.019989</td>\n",
       "      <td>52.180000</td>\n",
       "      <td>175.020004</td>\n",
       "    </tr>\n",
       "    <tr>\n",
       "      <th>2023-02-16</th>\n",
       "      <td>148.279999</td>\n",
       "      <td>16.389999</td>\n",
       "      <td>150.190002</td>\n",
       "      <td>153.710007</td>\n",
       "      <td>149.529999</td>\n",
       "      <td>160.470001</td>\n",
       "      <td>106.080002</td>\n",
       "      <td>67.099998</td>\n",
       "      <td>281.220001</td>\n",
       "      <td>365.160004</td>\n",
       "      <td>...</td>\n",
       "      <td>108.470001</td>\n",
       "      <td>67.260002</td>\n",
       "      <td>115.730003</td>\n",
       "      <td>35.799999</td>\n",
       "      <td>106.250000</td>\n",
       "      <td>131.720001</td>\n",
       "      <td>125.110001</td>\n",
       "      <td>333.440002</td>\n",
       "      <td>51.389999</td>\n",
       "      <td>173.929993</td>\n",
       "    </tr>\n",
       "    <tr>\n",
       "      <th>2023-02-17</th>\n",
       "      <td>148.259995</td>\n",
       "      <td>16.360001</td>\n",
       "      <td>149.990005</td>\n",
       "      <td>152.550003</td>\n",
       "      <td>151.309998</td>\n",
       "      <td>161.490005</td>\n",
       "      <td>106.739998</td>\n",
       "      <td>67.809998</td>\n",
       "      <td>277.049988</td>\n",
       "      <td>356.850006</td>\n",
       "      <td>...</td>\n",
       "      <td>109.010002</td>\n",
       "      <td>68.010002</td>\n",
       "      <td>111.279999</td>\n",
       "      <td>35.840000</td>\n",
       "      <td>107.290001</td>\n",
       "      <td>132.039993</td>\n",
       "      <td>125.970001</td>\n",
       "      <td>322.579987</td>\n",
       "      <td>51.430000</td>\n",
       "      <td>172.029999</td>\n",
       "    </tr>\n",
       "    <tr>\n",
       "      <th>2023-02-21</th>\n",
       "      <td>143.419998</td>\n",
       "      <td>15.690000</td>\n",
       "      <td>144.190002</td>\n",
       "      <td>148.479996</td>\n",
       "      <td>152.000000</td>\n",
       "      <td>160.839996</td>\n",
       "      <td>103.650002</td>\n",
       "      <td>67.550003</td>\n",
       "      <td>269.149994</td>\n",
       "      <td>346.700012</td>\n",
       "      <td>...</td>\n",
       "      <td>107.150002</td>\n",
       "      <td>67.199997</td>\n",
       "      <td>111.169998</td>\n",
       "      <td>35.400002</td>\n",
       "      <td>103.279999</td>\n",
       "      <td>130.610001</td>\n",
       "      <td>124.000000</td>\n",
       "      <td>307.000000</td>\n",
       "      <td>49.799999</td>\n",
       "      <td>169.839996</td>\n",
       "    </tr>\n",
       "  </tbody>\n",
       "</table>\n",
       "<p>504 rows × 503 columns</p>\n",
       "</div>"
      ],
      "text/plain": [
       "                     A        AAL         AAP        AAPL        ABBV  \\\n",
       "Date                                                                    \n",
       "2021-02-22  122.032654  20.440001  159.379578  124.501358   98.542206   \n",
       "2021-02-23  120.965485  20.660000  157.944519  124.363014   97.815056   \n",
       "2021-02-24  123.534584  21.820000  157.906494  123.859085  100.042526   \n",
       "2021-02-25  120.649277  20.860001  152.698380  119.550949   98.790726   \n",
       "2021-02-26  120.619629  20.940001  152.394257  119.817726   99.168106   \n",
       "...                ...        ...         ...         ...         ...   \n",
       "2023-02-14  153.039993  16.790001  150.759995  153.199997  152.589996   \n",
       "2023-02-15  151.750000  16.799999  151.289993  155.330002  151.059998   \n",
       "2023-02-16  148.279999  16.389999  150.190002  153.710007  149.529999   \n",
       "2023-02-17  148.259995  16.360001  149.990005  152.550003  151.309998   \n",
       "2023-02-21  143.419998  15.690000  144.190002  148.479996  152.000000   \n",
       "\n",
       "                   ABC         ABT       ACGL         ACN        ADBE  ...  \\\n",
       "Date                                                                   ...   \n",
       "2021-02-22  103.336601  120.744865  35.160000  246.021835  467.329987  ...   \n",
       "2021-02-23  103.677422  119.020638  35.150002  249.488739  467.799988  ...   \n",
       "2021-02-24  102.440727  120.577362  35.570000  252.488174  476.619995  ...   \n",
       "2021-02-25  100.152367  119.789154  35.490002  247.141769  459.160004  ...   \n",
       "2021-02-26   98.565109  118.015663  35.820000  244.337082  459.670013  ...   \n",
       "...                ...         ...        ...         ...         ...  ...   \n",
       "2023-02-14  157.360001  107.260002  66.279999  284.769989  377.899994  ...   \n",
       "2023-02-15  158.809998  107.279999  67.980003  287.649994  375.940002  ...   \n",
       "2023-02-16  160.470001  106.080002  67.099998  281.220001  365.160004  ...   \n",
       "2023-02-17  161.490005  106.739998  67.809998  277.049988  356.850006  ...   \n",
       "2023-02-21  160.839996  103.650002  67.550003  269.149994  346.700012  ...   \n",
       "\n",
       "                  WYNN        XEL         XOM       XRAY         XYL  \\\n",
       "Date                                                                   \n",
       "2021-02-22  126.750000  57.183510   49.656055  51.815701   97.550209   \n",
       "2021-02-23  136.479996  58.602924   50.341915  52.226791   96.932426   \n",
       "2021-02-24  134.210007  56.975327   51.850800  52.853191   99.128967   \n",
       "2021-02-25  128.660004  56.625202   50.991192  51.316536   98.060112   \n",
       "2021-02-26  131.729996  55.442360   49.720074  51.942940   97.628647   \n",
       "...                ...        ...         ...        ...         ...   \n",
       "2023-02-14  109.080002  67.980003  116.419998  36.990002  107.339996   \n",
       "2023-02-15  108.459999  67.900002  116.070000  36.590000  107.879997   \n",
       "2023-02-16  108.470001  67.260002  115.730003  35.799999  106.250000   \n",
       "2023-02-17  109.010002  68.010002  111.279999  35.840000  107.290001   \n",
       "2023-02-21  107.150002  67.199997  111.169998  35.400002  103.279999   \n",
       "\n",
       "                   YUM         ZBH        ZBRA       ZION         ZTS  \n",
       "Date                                                                   \n",
       "2021-02-22  101.816757  153.387390  488.309998  50.579266  157.996033  \n",
       "2021-02-23  101.467690  154.851059  498.019989  51.347050  157.364685  \n",
       "2021-02-24  101.496773  156.592133  512.690002  53.821037  156.901031  \n",
       "2021-02-25  101.516174  157.367004  497.619995  51.726208  154.365738  \n",
       "2021-02-26  100.381760  155.989426  499.429993  50.399162  153.142487  \n",
       "...                ...         ...         ...        ...         ...  \n",
       "2023-02-14  130.830002  126.709999  318.760010  52.320000  171.899994  \n",
       "2023-02-15  131.669998  126.510002  327.019989  52.180000  175.020004  \n",
       "2023-02-16  131.720001  125.110001  333.440002  51.389999  173.929993  \n",
       "2023-02-17  132.039993  125.970001  322.579987  51.430000  172.029999  \n",
       "2023-02-21  130.610001  124.000000  307.000000  49.799999  169.839996  \n",
       "\n",
       "[504 rows x 503 columns]"
      ]
     },
     "execution_count": 109,
     "metadata": {},
     "output_type": "execute_result"
    }
   ],
   "source": [
    "close = stocks['Adj Close'].copy()\n",
    "close"
   ]
  },
  {
   "cell_type": "code",
   "execution_count": 128,
   "metadata": {
    "colab": {
     "base_uri": "https://localhost:8080/"
    },
    "id": "8CjVlcqM4SLE",
    "outputId": "1fc41bb4-87bd-4ac9-d01d-a3a76bfd74e2"
   },
   "outputs": [
    {
     "data": {
      "text/plain": [
       "503"
      ]
     },
     "execution_count": 128,
     "metadata": {},
     "output_type": "execute_result"
    }
   ],
   "source": [
    "len(close.columns)\n"
   ]
  },
  {
   "cell_type": "code",
   "execution_count": 111,
   "metadata": {
    "id": "WfgIJ56JiXQg"
   },
   "outputs": [],
   "source": [
    "# import numpy as np\n",
    "\n",
    "# def moving_averages(Data):\n",
    "#   for i in range(len(Data.columns)):\n",
    "#     try:\n",
    "#       Data[str(Data.columns[i]) + '_MA10'] = Data[Data.columns[i]].rolling(10).mean()\n",
    "#       Data[str(Data.columns[i]) + '_MA50'] = Data[Data.columns[i]].rolling(50).mean()\n",
    "#       Data[str(Data.columns[i]) + '_MA200'] = Data[Data.columns[i]].rolling(200).mean()\n",
    "#     except ValueError:\n",
    "#       pass\n",
    "#   return Data\n",
    "\n",
    "# # Exponential moving average (EMA) tells us the weighted mean of the previous K data points. \n",
    "# # EMA places a greater weight and significance on the most recent data points. \n",
    "# # In python we use the Exponentially Weighted set of functions (the mean, in our case)\n",
    "# def exp_moving_averages(Data):\n",
    "#   for i in range(len(Data.columns)):\n",
    "#     try:\n",
    "#       Data[str(Data.columns[i]) + '_EMA10'] = Data[Data.columns[i]].ewm(span=10, adjust=False).mean()\n",
    "#       Data[str(Data.columns[i]) + '_EMA50'] = Data[Data.columns[i]].ewm(span=50, adjust=False).mean()\n",
    "#       Data[str(Data.columns[i]) + '_EMA200'] = Data[Data.columns[i]].ewm(span=200, adjust=False).mean()\n",
    "#     except ValueError:\n",
    "#       pass\n",
    "#   return Data\n",
    "\n",
    "\n",
    "# def pct_change(Data):\n",
    "#   for i in range(len(Data.columns)):\n",
    "#     try:\n",
    "#       Data[str(Data.columns[i]) + '_pct_change'] = Data[Data.columns[i]].pct_change()\n",
    "#     except ValueError:\n",
    "#       pass\n",
    "#   return Data\n",
    "\n",
    "# def log_returns(Data):\n",
    "#   for i in range(len(Data.columns)):\n",
    "#     try:\n",
    "#       Data[str(Data.columns[i]) + '_log_returns'] = np.log(Data[Data.columns[i]]/Data[Data.columns[i]].shift())\n",
    "#     except ValueError:\n",
    "#       pass\n",
    "#   return Data"
   ]
  },
  {
   "cell_type": "code",
   "execution_count": 113,
   "metadata": {
    "id": "H6xiE0arkZZ4"
   },
   "outputs": [],
   "source": [
    "# ma = indicators.moving_averages(close)\n",
    "# ema = indicators.exp_moving_averages(close)\n",
    "\n",
    "# ema.tail()"
   ]
  },
  {
   "cell_type": "code",
   "execution_count": 152,
   "metadata": {
    "colab": {
     "base_uri": "https://localhost:8080/",
     "height": 418
    },
    "id": "_LZZaZTPkfmI",
    "outputId": "b8abb818-4bbb-45ef-ea13-6c708c961afd"
   },
   "outputs": [],
   "source": [
    "close.index = pd.to_datetime(close.index)\n",
    "type(close.index)"
   ]
  },
  {
   "cell_type": "code",
   "execution_count": 185,
   "metadata": {},
   "outputs": [
    {
     "data": {
      "text/html": [
       "<div>\n",
       "<style scoped>\n",
       "    .dataframe tbody tr th:only-of-type {\n",
       "        vertical-align: middle;\n",
       "    }\n",
       "\n",
       "    .dataframe tbody tr th {\n",
       "        vertical-align: top;\n",
       "    }\n",
       "\n",
       "    .dataframe thead th {\n",
       "        text-align: right;\n",
       "    }\n",
       "</style>\n",
       "<table border=\"1\" class=\"dataframe\">\n",
       "  <thead>\n",
       "    <tr style=\"text-align: right;\">\n",
       "      <th></th>\n",
       "      <th>A</th>\n",
       "      <th>AAL</th>\n",
       "      <th>AAP</th>\n",
       "      <th>AAPL</th>\n",
       "      <th>ABBV</th>\n",
       "      <th>ABC</th>\n",
       "      <th>ABT</th>\n",
       "      <th>ACGL</th>\n",
       "      <th>ACN</th>\n",
       "      <th>ADBE</th>\n",
       "      <th>...</th>\n",
       "      <th>WYNN</th>\n",
       "      <th>XEL</th>\n",
       "      <th>XOM</th>\n",
       "      <th>XRAY</th>\n",
       "      <th>XYL</th>\n",
       "      <th>YUM</th>\n",
       "      <th>ZBH</th>\n",
       "      <th>ZBRA</th>\n",
       "      <th>ZION</th>\n",
       "      <th>ZTS</th>\n",
       "    </tr>\n",
       "    <tr>\n",
       "      <th>Date</th>\n",
       "      <th></th>\n",
       "      <th></th>\n",
       "      <th></th>\n",
       "      <th></th>\n",
       "      <th></th>\n",
       "      <th></th>\n",
       "      <th></th>\n",
       "      <th></th>\n",
       "      <th></th>\n",
       "      <th></th>\n",
       "      <th></th>\n",
       "      <th></th>\n",
       "      <th></th>\n",
       "      <th></th>\n",
       "      <th></th>\n",
       "      <th></th>\n",
       "      <th></th>\n",
       "      <th></th>\n",
       "      <th></th>\n",
       "      <th></th>\n",
       "      <th></th>\n",
       "    </tr>\n",
       "  </thead>\n",
       "  <tbody>\n",
       "    <tr>\n",
       "      <th>2021-02-22</th>\n",
       "      <td>122.032654</td>\n",
       "      <td>20.440001</td>\n",
       "      <td>159.379578</td>\n",
       "      <td>124.501358</td>\n",
       "      <td>98.542206</td>\n",
       "      <td>103.336601</td>\n",
       "      <td>120.744865</td>\n",
       "      <td>35.16</td>\n",
       "      <td>246.021835</td>\n",
       "      <td>467.329987</td>\n",
       "      <td>...</td>\n",
       "      <td>126.75</td>\n",
       "      <td>57.18351</td>\n",
       "      <td>49.656055</td>\n",
       "      <td>51.815701</td>\n",
       "      <td>97.550209</td>\n",
       "      <td>101.816757</td>\n",
       "      <td>153.38739</td>\n",
       "      <td>488.309998</td>\n",
       "      <td>50.579266</td>\n",
       "      <td>157.996033</td>\n",
       "    </tr>\n",
       "  </tbody>\n",
       "</table>\n",
       "<p>1 rows × 503 columns</p>\n",
       "</div>"
      ],
      "text/plain": [
       "                     A        AAL         AAP        AAPL       ABBV  \\\n",
       "Date                                                                   \n",
       "2021-02-22  122.032654  20.440001  159.379578  124.501358  98.542206   \n",
       "\n",
       "                   ABC         ABT   ACGL         ACN        ADBE  ...  \\\n",
       "Date                                                               ...   \n",
       "2021-02-22  103.336601  120.744865  35.16  246.021835  467.329987  ...   \n",
       "\n",
       "              WYNN       XEL        XOM       XRAY        XYL         YUM  \\\n",
       "Date                                                                        \n",
       "2021-02-22  126.75  57.18351  49.656055  51.815701  97.550209  101.816757   \n",
       "\n",
       "                  ZBH        ZBRA       ZION         ZTS  \n",
       "Date                                                      \n",
       "2021-02-22  153.38739  488.309998  50.579266  157.996033  \n",
       "\n",
       "[1 rows x 503 columns]"
      ]
     },
     "execution_count": 185,
     "metadata": {},
     "output_type": "execute_result"
    }
   ],
   "source": [
    "close[:\"2021-02-22\"]"
   ]
  },
  {
   "cell_type": "markdown",
   "metadata": {
    "id": "B3q-vxynk94S"
   },
   "source": [
    "## Plot the Data"
   ]
  },
  {
   "cell_type": "code",
   "execution_count": null,
   "metadata": {},
   "outputs": [],
   "source": []
  },
  {
   "cell_type": "code",
   "execution_count": null,
   "metadata": {
    "id": "gXKCMXbUX_q_"
   },
   "outputs": [],
   "source": [
    "import matplotlib.pyplot as plt\n",
    "plt.style.use(\"seaborn\")"
   ]
  },
  {
   "cell_type": "code",
   "execution_count": null,
   "metadata": {
    "colab": {
     "base_uri": "https://localhost:8080/"
    },
    "id": "doX0x3uFlU97",
    "outputId": "4bf0bac6-c7b3-494d-96e0-512442d349bd"
   },
   "outputs": [],
   "source": [
    "# for reference, lets list our columns\n",
    "# IDEA: consider breaking our dataset into a number of new datasets for each ticker and their analysis\n",
    "close.columns"
   ]
  },
  {
   "cell_type": "code",
   "execution_count": null,
   "metadata": {
    "colab": {
     "base_uri": "https://localhost:8080/",
     "height": 488
    },
    "id": "uCCwLeOUYGV8",
    "outputId": "f414a253-acc8-423c-d9a1-acf4a4de19ef"
   },
   "outputs": [],
   "source": [
    "close.plot(figsize = (15,8 ), fontsize = 13)\n",
    "plt.legend(fontsize = 13)\n",
    "plt.show()"
   ]
  },
  {
   "cell_type": "code",
   "execution_count": null,
   "metadata": {
    "id": "cCkPq-VwYJqr"
   },
   "outputs": [],
   "source": [
    "# lets normalize our data so we can start on the same starting point for all the stocks\n",
    "# to do this, we take the close price from the first record in the time series, then we divide all of the \n",
    "# other stock close number by that value. from there, we multiply the numbers again by 100 to get a positive number\n",
    "norm = close.div(close.iloc[0]).mul(100)"
   ]
  },
  {
   "cell_type": "code",
   "execution_count": null,
   "metadata": {
    "colab": {
     "base_uri": "https://localhost:8080/",
     "height": 488
    },
    "id": "n_LZlCqaYPj2",
    "outputId": "f33d2167-e8ff-43cc-9c1f-c64d7a113202"
   },
   "outputs": [],
   "source": [
    "norm.plot(figsize = (15, 8 ), fontsize = 13)\n",
    "plt.legend(fontsize = 13)\n",
    "plt.show()"
   ]
  },
  {
   "cell_type": "code",
   "execution_count": null,
   "metadata": {
    "colab": {
     "base_uri": "https://localhost:8080/",
     "height": 393
    },
    "id": "C7cOr-T1YUaK",
    "outputId": "7425249e-9f2b-466a-ed86-9c11f91176ee"
   },
   "outputs": [],
   "source": [
    "norm.describe()"
   ]
  },
  {
   "cell_type": "code",
   "execution_count": null,
   "metadata": {
    "id": "_OYTP6tnYZO-"
   },
   "outputs": [],
   "source": [
    "#in order to get daily returns, use the shift() method\n",
    "lag1 = close.shift(periods = 1)"
   ]
  },
  {
   "cell_type": "code",
   "execution_count": null,
   "metadata": {
    "id": "FvKQ1t6zYdEM"
   },
   "outputs": [],
   "source": [
    "adm = close.ADM.copy().to_frame()"
   ]
  },
  {
   "cell_type": "code",
   "execution_count": null,
   "metadata": {
    "id": "7LGVENufYkW7"
   },
   "outputs": [],
   "source": [
    "adm[\"lag1\"] = adm.shift(periods = 1)"
   ]
  },
  {
   "cell_type": "code",
   "execution_count": null,
   "metadata": {
    "colab": {
     "base_uri": "https://localhost:8080/",
     "height": 478
    },
    "id": "u-bkZ7gOYoPD",
    "outputId": "e4c99066-df68-4d9b-bb33-ce252bc8736e"
   },
   "outputs": [],
   "source": [
    "adm.plot(figsize = (15, 8 ), fontsize = 13)\n",
    "plt.legend(fontsize = 13)\n",
    "plt.show()"
   ]
  },
  {
   "cell_type": "code",
   "execution_count": null,
   "metadata": {
    "id": "RRHiqF09Ys7a"
   },
   "outputs": [],
   "source": [
    "# close[\"adm_diff\"] = close.ADM.sub(close.ADM.shift(periods = 1)"
   ]
  },
  {
   "cell_type": "code",
   "execution_count": null,
   "metadata": {
    "id": "yXZ4hDigZBFh"
   },
   "outputs": [],
   "source": [
    "#or we can just use the diff and pct_change methods - which is supposed to do the same thing but....\n",
    "adm[\"adm_chg_pct\"] = close.ADM.pct_change()"
   ]
  },
  {
   "cell_type": "code",
   "execution_count": null,
   "metadata": {
    "colab": {
     "base_uri": "https://localhost:8080/",
     "height": 376
    },
    "id": "peNj8YQAZIeL",
    "outputId": "e27659fe-dd6b-459e-c265-bcc6eceb2d9f"
   },
   "outputs": [],
   "source": [
    "\n",
    "from importlib import reload\n",
    "plt=reload(plt)\n",
    "\n",
    "plt.plot(figsize = (100, 8 ), fontsize = 13)\n",
    "plt.plot(adm[\"adm_chg_pct\"])\n",
    "\n",
    "plt.xlabel(\"Date\")\n",
    "plt.ylabel(\"Change Pct\")\n",
    "plt.title(\"Annual Daily Percentage Change\")\n",
    "\n",
    "# Display\n",
    "\n",
    "plt.show()"
   ]
  },
  {
   "cell_type": "code",
   "execution_count": null,
   "metadata": {
    "colab": {
     "base_uri": "https://localhost:8080/",
     "height": 237
    },
    "id": "fWi9bUzhZ_kx",
    "outputId": "68f39c90-46ad-4826-8155-cc55cffc0090"
   },
   "outputs": [],
   "source": [
    "adm.head()"
   ]
  },
  {
   "cell_type": "code",
   "execution_count": null,
   "metadata": {
    "id": "OEoJd_nwkRGB"
   },
   "outputs": [],
   "source": []
  }
 ],
 "metadata": {
  "colab": {
   "authorship_tag": "ABX9TyON8Mn7f6s6IEV7EzeHOjwh",
   "collapsed_sections": [],
   "include_colab_link": true,
   "name": "centaur-portfolio-projection.ipynb",
   "provenance": []
  },
  "kernelspec": {
   "display_name": "Python 3",
   "language": "python",
   "name": "python3"
  },
  "language_info": {
   "codemirror_mode": {
    "name": "ipython",
    "version": 3
   },
   "file_extension": ".py",
   "mimetype": "text/x-python",
   "name": "python",
   "nbconvert_exporter": "python",
   "pygments_lexer": "ipython3",
   "version": "3.8.8"
  },
  "vscode": {
   "interpreter": {
    "hash": "aee8b7b246df8f9039afb4144a1f6fd8d2ca17a180786b69acc140d282b71a49"
   }
  }
 },
 "nbformat": 4,
 "nbformat_minor": 4
}
