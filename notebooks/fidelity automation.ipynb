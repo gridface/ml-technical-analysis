{
 "cells": [
  {
   "cell_type": "code",
   "execution_count": null,
   "id": "ee7683ab",
   "metadata": {},
   "outputs": [],
   "source": [
    "#  Here is a Python program that uses Selenium to log in to login.sample.com by reading credentials\n",
    "# from a config file:\n",
    "\n",
    "# ```python\n",
    "from selenium import webdriver\n",
    "import configparser\n",
    "\n",
    "config = configparser.ConfigParser()\n",
    "config.read('config.ini')\n",
    "\n",
    "username = config['LOGIN']['username']\n",
    "password = config['LOGIN']['password']\n",
    "\n",
    "driver = webdriver.Chrome()\n",
    "driver.get('https://login.sample.com')\n",
    "\n",
    "username_field = driver.find_element_by_id('username')\n",
    "username_field.send_keys(username)\n",
    "\n",
    "password_field = driver.find_element_by_id('password')\n",
    "password_field.send_keys(password)\n",
    "\n",
    "login_button = driver.find_element_by_id('login')\n",
    "login_button.click()\n",
    "```\n",
    "\n",
    "# This program imports Selenium and the configparser module. It reads the username and password from a\n",
    "# config.ini file that contains:\n",
    "\n",
    "# ```\n",
    "# [LOGIN]\n",
    "# username = myusername\n",
    "# password = mypassword\n",
    "# ```\n",
    "\n",
    "# It launches Chrome, goes to the login page, locates the username and password fields, enters the\n",
    "# credentials, and clicks the login button.\n"
   ]
  },
  {
   "cell_type": "markdown",
   "id": "e3e099ad",
   "metadata": {},
   "source": [
    " Here is a Python program that uses pandas to pull data tables from a webpage and write them to a\n",
    "CSV file in a folder called portfolio-data:\n",
    "\n",
    "```python\n",
    "import pandas as pd\n",
    "import requests\n",
    "from pathlib import Path\n",
    "\n",
    "url = 'https://example.com/data_tables'\n",
    "\n",
    "response = requests.get(url)\n",
    "tables = pd.read_html(response.text)\n",
    "\n",
    "data_path = Path('portfolio-data')\n",
    "data_path.mkdir(exist_ok=True)\n",
    "\n",
    "for i, table in enumerate(tables):\n",
    "    csv_path = data_path / f'data_{i}.csv'\n",
    "    table.to_csv(csv_path, index=False)\n",
    "```\n",
    "\n",
    "This program:\n",
    "\n",
    "- Uses the requests library to download the HTML content from the example URL\n",
    "- Reads all the tables in the HTML using pandas read_html\n",
    "- Creates a folder called portfolio-data if it doesn't already exist\n",
    "- Loops through each table and writes it to a CSV file in the portfolio-data folder\n",
    "\n",
    "Let me know if you need any clarification or have additional requirements!"
   ]
  }
 ],
 "metadata": {
  "kernelspec": {
   "display_name": "Python 3",
   "language": "python",
   "name": "python3"
  },
  "language_info": {
   "codemirror_mode": {
    "name": "ipython",
    "version": 3
   },
   "file_extension": ".py",
   "mimetype": "text/x-python",
   "name": "python",
   "nbconvert_exporter": "python",
   "pygments_lexer": "ipython3",
   "version": "3.8.8"
  }
 },
 "nbformat": 4,
 "nbformat_minor": 5
}
